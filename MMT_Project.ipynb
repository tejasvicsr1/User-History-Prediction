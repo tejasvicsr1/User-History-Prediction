{
  "cells": [
    {
      "cell_type": "code",
      "execution_count": 1,
      "metadata": {
        "colab": {
          "base_uri": "https://localhost:8080/"
        },
        "id": "0jscyPGc7fde",
        "outputId": "cd5c91e2-2189-47b6-9f63-37d1555a5888"
      },
      "outputs": [],
      "source": [
        "# !wget -O data.tar.gz http://mtg.upf.edu/static/datasets/last.fm/lastfm-dataset-1K.tar.gz"
      ]
    },
    {
      "cell_type": "code",
      "execution_count": 2,
      "metadata": {
        "colab": {
          "base_uri": "https://localhost:8080/"
        },
        "id": "b_HX-PUO78dn",
        "outputId": "46c6ee9e-fefa-46c5-be48-da35011353d4"
      },
      "outputs": [],
      "source": [
        "# !tar -xvzf data.tar.gz"
      ]
    },
    {
      "cell_type": "code",
      "execution_count": 1,
      "metadata": {
        "id": "vudJK757CVkr"
      },
      "outputs": [],
      "source": [
        "import pandas as pd\n",
        "import numpy as np"
      ]
    },
    {
      "cell_type": "code",
      "execution_count": 38,
      "metadata": {
        "id": "1EPc59P492w1"
      },
      "outputs": [],
      "source": [
        "user_profile_data = pd.read_csv('lastfm-dataset-1K/userid-profile.tsv', sep='\\t', header=0)"
      ]
    },
    {
      "cell_type": "code",
      "execution_count": 3,
      "metadata": {
        "id": "mFYGBS0MCbk5"
      },
      "outputs": [],
      "source": [
        "user_data = pd.read_csv('lastfm-dataset-1K/userid-timestamp-artid-artname-traid-traname.tsv', sep='\\t', on_bad_lines='skip')"
      ]
    },
    {
      "cell_type": "code",
      "execution_count": 4,
      "metadata": {
        "id": "y639nzV5ChlT"
      },
      "outputs": [],
      "source": [
        "user_data.columns = ['#id', 'timestamp', 'artist_id', 'artist_name', 'track_id', 'track_name']"
      ]
    },
    {
      "cell_type": "code",
      "execution_count": 5,
      "metadata": {
        "id": "JbgGrP6yGLyD"
      },
      "outputs": [],
      "source": [
        "gender_data = user_profile_data[['#id', 'gender']].copy()\n",
        "age_data = user_profile_data[['#id', 'age']].copy()"
      ]
    },
    {
      "cell_type": "code",
      "execution_count": 6,
      "metadata": {
        "colab": {
          "base_uri": "https://localhost:8080/"
        },
        "id": "Jo3xq8JqGaNy",
        "outputId": "012a856b-e678-457e-dca5-970356f3c3fd"
      },
      "outputs": [
        {
          "data": {
            "text/plain": [
              "(884, 286)"
            ]
          },
          "execution_count": 6,
          "metadata": {},
          "output_type": "execute_result"
        }
      ],
      "source": [
        "gender_data.dropna(inplace=True)\n",
        "age_data.dropna(inplace=True)\n",
        "len(gender_data), len(age_data)"
      ]
    },
    {
      "cell_type": "code",
      "execution_count": 7,
      "metadata": {
        "id": "c8JVSJhNDPos"
      },
      "outputs": [],
      "source": [
        "user_data.dropna(inplace=True)"
      ]
    },
    {
      "cell_type": "code",
      "execution_count": 8,
      "metadata": {
        "colab": {
          "base_uri": "https://localhost:8080/",
          "height": 424
        },
        "id": "R6mlC1jqEPC3",
        "outputId": "4fe5f71a-1c58-4786-e651-7dfc665e85c4"
      },
      "outputs": [
        {
          "data": {
            "text/html": [
              "<div>\n",
              "<style scoped>\n",
              "    .dataframe tbody tr th:only-of-type {\n",
              "        vertical-align: middle;\n",
              "    }\n",
              "\n",
              "    .dataframe tbody tr th {\n",
              "        vertical-align: top;\n",
              "    }\n",
              "\n",
              "    .dataframe thead th {\n",
              "        text-align: right;\n",
              "    }\n",
              "</style>\n",
              "<table border=\"1\" class=\"dataframe\">\n",
              "  <thead>\n",
              "    <tr style=\"text-align: right;\">\n",
              "      <th></th>\n",
              "      <th>#id</th>\n",
              "      <th>gender</th>\n",
              "    </tr>\n",
              "  </thead>\n",
              "  <tbody>\n",
              "    <tr>\n",
              "      <th>0</th>\n",
              "      <td>user_000001</td>\n",
              "      <td>1</td>\n",
              "    </tr>\n",
              "    <tr>\n",
              "      <th>1</th>\n",
              "      <td>user_000002</td>\n",
              "      <td>0</td>\n",
              "    </tr>\n",
              "    <tr>\n",
              "      <th>2</th>\n",
              "      <td>user_000003</td>\n",
              "      <td>1</td>\n",
              "    </tr>\n",
              "    <tr>\n",
              "      <th>3</th>\n",
              "      <td>user_000004</td>\n",
              "      <td>0</td>\n",
              "    </tr>\n",
              "    <tr>\n",
              "      <th>4</th>\n",
              "      <td>user_000005</td>\n",
              "      <td>1</td>\n",
              "    </tr>\n",
              "    <tr>\n",
              "      <th>...</th>\n",
              "      <td>...</td>\n",
              "      <td>...</td>\n",
              "    </tr>\n",
              "    <tr>\n",
              "      <th>987</th>\n",
              "      <td>user_000996</td>\n",
              "      <td>0</td>\n",
              "    </tr>\n",
              "    <tr>\n",
              "      <th>988</th>\n",
              "      <td>user_000997</td>\n",
              "      <td>1</td>\n",
              "    </tr>\n",
              "    <tr>\n",
              "      <th>989</th>\n",
              "      <td>user_000998</td>\n",
              "      <td>1</td>\n",
              "    </tr>\n",
              "    <tr>\n",
              "      <th>990</th>\n",
              "      <td>user_000999</td>\n",
              "      <td>0</td>\n",
              "    </tr>\n",
              "    <tr>\n",
              "      <th>991</th>\n",
              "      <td>user_001000</td>\n",
              "      <td>1</td>\n",
              "    </tr>\n",
              "  </tbody>\n",
              "</table>\n",
              "<p>884 rows × 2 columns</p>\n",
              "</div>"
            ],
            "text/plain": [
              "             #id  gender\n",
              "0    user_000001       1\n",
              "1    user_000002       0\n",
              "2    user_000003       1\n",
              "3    user_000004       0\n",
              "4    user_000005       1\n",
              "..           ...     ...\n",
              "987  user_000996       0\n",
              "988  user_000997       1\n",
              "989  user_000998       1\n",
              "990  user_000999       0\n",
              "991  user_001000       1\n",
              "\n",
              "[884 rows x 2 columns]"
            ]
          },
          "execution_count": 8,
          "metadata": {},
          "output_type": "execute_result"
        }
      ],
      "source": [
        "gender_data['gender'] = gender_data['gender'].apply(lambda x: 1 if x =='m' else 0)\n",
        "gender_data"
      ]
    },
    {
      "cell_type": "code",
      "execution_count": 9,
      "metadata": {
        "colab": {
          "base_uri": "https://localhost:8080/",
          "height": 424
        },
        "id": "IxHFT5ZuFLNO",
        "outputId": "3c82c1b2-1eab-46b5-b997-f3c42aa016ef"
      },
      "outputs": [
        {
          "data": {
            "text/html": [
              "<div>\n",
              "<style scoped>\n",
              "    .dataframe tbody tr th:only-of-type {\n",
              "        vertical-align: middle;\n",
              "    }\n",
              "\n",
              "    .dataframe tbody tr th {\n",
              "        vertical-align: top;\n",
              "    }\n",
              "\n",
              "    .dataframe thead th {\n",
              "        text-align: right;\n",
              "    }\n",
              "</style>\n",
              "<table border=\"1\" class=\"dataframe\">\n",
              "  <thead>\n",
              "    <tr style=\"text-align: right;\">\n",
              "      <th></th>\n",
              "      <th>#id</th>\n",
              "      <th>age</th>\n",
              "    </tr>\n",
              "  </thead>\n",
              "  <tbody>\n",
              "    <tr>\n",
              "      <th>2</th>\n",
              "      <td>user_000003</td>\n",
              "      <td>0</td>\n",
              "    </tr>\n",
              "    <tr>\n",
              "      <th>5</th>\n",
              "      <td>user_000006</td>\n",
              "      <td>1</td>\n",
              "    </tr>\n",
              "    <tr>\n",
              "      <th>7</th>\n",
              "      <td>user_000008</td>\n",
              "      <td>0</td>\n",
              "    </tr>\n",
              "    <tr>\n",
              "      <th>8</th>\n",
              "      <td>user_000009</td>\n",
              "      <td>0</td>\n",
              "    </tr>\n",
              "    <tr>\n",
              "      <th>9</th>\n",
              "      <td>user_000010</td>\n",
              "      <td>0</td>\n",
              "    </tr>\n",
              "    <tr>\n",
              "      <th>...</th>\n",
              "      <td>...</td>\n",
              "      <td>...</td>\n",
              "    </tr>\n",
              "    <tr>\n",
              "      <th>357</th>\n",
              "      <td>user_000360</td>\n",
              "      <td>0</td>\n",
              "    </tr>\n",
              "    <tr>\n",
              "      <th>358</th>\n",
              "      <td>user_000361</td>\n",
              "      <td>1</td>\n",
              "    </tr>\n",
              "    <tr>\n",
              "      <th>361</th>\n",
              "      <td>user_000364</td>\n",
              "      <td>1</td>\n",
              "    </tr>\n",
              "    <tr>\n",
              "      <th>362</th>\n",
              "      <td>user_000366</td>\n",
              "      <td>1</td>\n",
              "    </tr>\n",
              "    <tr>\n",
              "      <th>526</th>\n",
              "      <td>user_000533</td>\n",
              "      <td>1</td>\n",
              "    </tr>\n",
              "  </tbody>\n",
              "</table>\n",
              "<p>286 rows × 2 columns</p>\n",
              "</div>"
            ],
            "text/plain": [
              "             #id  age\n",
              "2    user_000003    0\n",
              "5    user_000006    1\n",
              "7    user_000008    0\n",
              "8    user_000009    0\n",
              "9    user_000010    0\n",
              "..           ...  ...\n",
              "357  user_000360    0\n",
              "358  user_000361    1\n",
              "361  user_000364    1\n",
              "362  user_000366    1\n",
              "526  user_000533    1\n",
              "\n",
              "[286 rows x 2 columns]"
            ]
          },
          "execution_count": 9,
          "metadata": {},
          "output_type": "execute_result"
        }
      ],
      "source": [
        "age_data['age'] = age_data['age'].apply(lambda x: 1 if x >= 24 else 0)\n",
        "age_data"
      ]
    },
    {
      "cell_type": "code",
      "execution_count": 10,
      "metadata": {
        "id": "5g2jB5dqJIIB"
      },
      "outputs": [],
      "source": [
        "import matplotlib.pyplot as plt\n",
        " \n",
        "# Sklearn modules & classes\n",
        "from sklearn.linear_model import LogisticRegression\n",
        "from sklearn.svm import SVC\n",
        "from sklearn.model_selection import train_test_split\n",
        "from sklearn.preprocessing import StandardScaler\n",
        "from sklearn import metrics\n",
        "from sklearn.neighbors import KNeighborsClassifier"
      ]
    },
    {
      "cell_type": "code",
      "execution_count": 37,
      "metadata": {
        "id": "bbPd6MGbJVR3"
      },
      "outputs": [],
      "source": [
        "def run_SVM(X, y):\n",
        "  X_train, X_test, y_train, y_test = train_test_split(X, y, test_size=0.3, random_state=1, stratify=y)\n",
        "  sc = StandardScaler()\n",
        "  sc.fit(X_train)\n",
        "  X_train_std = sc.transform(X_train)\n",
        "  X_test_std = sc.transform(X_test)\n",
        "  svc = SVC(C=1.0, random_state=1, kernel='rbf')\n",
        "  svc.fit(X_train_std, y_train)\n",
        "  y_predict = svc.predict(X_test_std)\n",
        "  print(\"Accuracy score %.3f\" %metrics.accuracy_score(y_test, y_predict))\n",
        "  return metrics.accuracy_score(y_test, y_predict) * 100"
      ]
    },
    {
      "cell_type": "code",
      "execution_count": 12,
      "metadata": {},
      "outputs": [],
      "source": [
        "def run_KNN(X, y, k=3):\n",
        "    X_train, X_test, y_train, y_test = train_test_split(X, y, test_size=0.3, random_state=1, stratify=y)\n",
        "    sc = StandardScaler()\n",
        "    sc.fit(X_train)\n",
        "    X_train_std = sc.transform(X_train)\n",
        "    X_test_std = sc.transform(X_test)\n",
        "    knn = KNeighborsClassifier(n_neighbors=k)\n",
        "    knn.fit(X_train_std, y_train)\n",
        "    y_predict = knn.predict(X_test_std)\n",
        "    print(\"Accuracy score %.3f\" %metrics.accuracy_score(y_test, y_predict))\n",
        "    return metrics.accuracy_score(y_test, y_predict) * 100\n",
        "    "
      ]
    },
    {
      "cell_type": "code",
      "execution_count": 13,
      "metadata": {},
      "outputs": [],
      "source": [
        "def run_LogisticRegression(X, y):\n",
        "    X_train, X_test, y_train, y_test = train_test_split(X, y, test_size=0.3, random_state=1, stratify=y)\n",
        "    sc = StandardScaler()\n",
        "    sc.fit(X_train)\n",
        "    X_train_std = sc.transform(X_train)\n",
        "    X_test_std = sc.transform(X_test)\n",
        "    logisticRegression = LogisticRegression()\n",
        "    logisticRegression.fit(X_train_std, y_train)\n",
        "    y_predict = logisticRegression.predict(X_test_std)\n",
        "    print(\"Accuracy score %.3f\" %metrics.accuracy_score(y_test, y_predict))\n",
        "    return metrics.accuracy_score(y_test, y_predict) * 100"
      ]
    },
    {
      "cell_type": "code",
      "execution_count": 14,
      "metadata": {
        "id": "Yeer2FBiJwH7"
      },
      "outputs": [],
      "source": [
        "def get_valid_ids(data):\n",
        "  return np.array(list(data['#id']))"
      ]
    },
    {
      "cell_type": "code",
      "execution_count": 41,
      "metadata": {},
      "outputs": [],
      "source": [
        "age_ids = get_valid_ids(age_data)\n",
        "gender_ids = get_valid_ids(gender_data)"
      ]
    },
    {
      "cell_type": "code",
      "execution_count": 15,
      "metadata": {
        "colab": {
          "base_uri": "https://localhost:8080/"
        },
        "id": "TE0jEVu-Ka4L",
        "outputId": "1d858d43-19a1-4813-bdc6-315359045a48"
      },
      "outputs": [
        {
          "name": "stdout",
          "output_type": "stream",
          "text": [
            "286\n"
          ]
        }
      ],
      "source": [
        "values = {}\n",
        "for id in age_ids:\n",
        "  values[id] = user_data['#id'].value_counts()[id]\n",
        "print(len(values))"
      ]
    },
    {
      "cell_type": "code",
      "execution_count": 16,
      "metadata": {},
      "outputs": [],
      "source": [
        "new_X = list(values.values())"
      ]
    },
    {
      "cell_type": "code",
      "execution_count": 17,
      "metadata": {},
      "outputs": [
        {
          "name": "stdout",
          "output_type": "stream",
          "text": [
            "Accuracy score 0.535\n"
          ]
        }
      ],
      "source": [
        "num_points_accuracy_SVM = run_SVM(np.array(new_X).reshape(-1, 1), np.array(list(age_data['age'])))"
      ]
    },
    {
      "cell_type": "code",
      "execution_count": 18,
      "metadata": {},
      "outputs": [
        {
          "name": "stdout",
          "output_type": "stream",
          "text": [
            "Accuracy score 0.523\n"
          ]
        }
      ],
      "source": [
        "num_points_accuracy_KNN = run_KNN(np.array(new_X).reshape(-1, 1), np.array(list(age_data['age'])))"
      ]
    },
    {
      "cell_type": "code",
      "execution_count": 19,
      "metadata": {},
      "outputs": [
        {
          "name": "stdout",
          "output_type": "stream",
          "text": [
            "Accuracy score 0.523\n"
          ]
        }
      ],
      "source": [
        "num_points_accuracy_LinearRegression = run_LogisticRegression(np.array(new_X).reshape(-1, 1), np.array(list(age_data['age'])))"
      ]
    },
    {
      "cell_type": "code",
      "execution_count": 20,
      "metadata": {
        "colab": {
          "base_uri": "https://localhost:8080/"
        },
        "id": "xzdFRKZINRFw",
        "outputId": "8cf07648-479f-40e9-9d74-b0328fd62ed3"
      },
      "outputs": [
        {
          "data": {
            "text/plain": [
              "9           2009-05-04T13:06:09Z\n",
              "11          2009-05-04T12:55:34Z\n",
              "13          2009-05-03T15:48:25Z\n",
              "14          2009-05-03T15:37:56Z\n",
              "15          2009-05-03T15:14:53Z\n",
              "                    ...         \n",
              "19098847    2008-01-27T22:02:35Z\n",
              "19098848    2008-01-27T21:56:52Z\n",
              "19098849    2008-01-27T21:52:36Z\n",
              "19098850    2008-01-27T21:49:12Z\n",
              "19098851    2008-01-27T21:43:14Z\n",
              "Name: timestamp, Length: 16936134, dtype: object"
            ]
          },
          "execution_count": 20,
          "metadata": {},
          "output_type": "execute_result"
        }
      ],
      "source": [
        "user_data[\"timestamp\"]"
      ]
    },
    {
      "cell_type": "code",
      "execution_count": 21,
      "metadata": {
        "id": "wtmoLVxm5isH"
      },
      "outputs": [],
      "source": [
        "import datetime\n",
        "user_data['datem'] = user_data['timestamp'].apply(lambda x: datetime.datetime.strptime(x, '%Y-%m-%dT%H:%M:%SZ'))"
      ]
    },
    {
      "cell_type": "code",
      "execution_count": 22,
      "metadata": {
        "colab": {
          "base_uri": "https://localhost:8080/",
          "height": 206
        },
        "id": "X1dhtE0YHA3V",
        "outputId": "957eee28-c9a4-4ab4-b3e6-a6c97007c5b4"
      },
      "outputs": [
        {
          "data": {
            "text/html": [
              "<div>\n",
              "<style scoped>\n",
              "    .dataframe tbody tr th:only-of-type {\n",
              "        vertical-align: middle;\n",
              "    }\n",
              "\n",
              "    .dataframe tbody tr th {\n",
              "        vertical-align: top;\n",
              "    }\n",
              "\n",
              "    .dataframe thead th {\n",
              "        text-align: right;\n",
              "    }\n",
              "</style>\n",
              "<table border=\"1\" class=\"dataframe\">\n",
              "  <thead>\n",
              "    <tr style=\"text-align: right;\">\n",
              "      <th></th>\n",
              "      <th>#id</th>\n",
              "      <th>timestamp</th>\n",
              "      <th>artist_id</th>\n",
              "      <th>artist_name</th>\n",
              "      <th>track_id</th>\n",
              "      <th>track_name</th>\n",
              "      <th>datem</th>\n",
              "    </tr>\n",
              "  </thead>\n",
              "  <tbody>\n",
              "    <tr>\n",
              "      <th>9</th>\n",
              "      <td>user_000001</td>\n",
              "      <td>2009-05-04T13:06:09Z</td>\n",
              "      <td>a7f7df4a-77d8-4f12-8acd-5c60c93f4de8</td>\n",
              "      <td>坂本龍一</td>\n",
              "      <td>f7c1f8f8-b935-45ed-8fc8-7def69d92a10</td>\n",
              "      <td>The Last Emperor (Theme)</td>\n",
              "      <td>2009-05-04 13:06:09</td>\n",
              "    </tr>\n",
              "    <tr>\n",
              "      <th>11</th>\n",
              "      <td>user_000001</td>\n",
              "      <td>2009-05-04T12:55:34Z</td>\n",
              "      <td>a7f7df4a-77d8-4f12-8acd-5c60c93f4de8</td>\n",
              "      <td>坂本龍一</td>\n",
              "      <td>475d4e50-cebb-4cd0-8cd4-c3df97987962</td>\n",
              "      <td>Tibetan Dance (Version)</td>\n",
              "      <td>2009-05-04 12:55:34</td>\n",
              "    </tr>\n",
              "    <tr>\n",
              "      <th>13</th>\n",
              "      <td>user_000001</td>\n",
              "      <td>2009-05-03T15:48:25Z</td>\n",
              "      <td>ba2f4f3b-0293-4bc8-bb94-2f73b5207343</td>\n",
              "      <td>Underworld</td>\n",
              "      <td>dc394163-2b78-4b56-94e4-658597a29ef8</td>\n",
              "      <td>Boy, Boy, Boy (Switch Remix)</td>\n",
              "      <td>2009-05-03 15:48:25</td>\n",
              "    </tr>\n",
              "    <tr>\n",
              "      <th>14</th>\n",
              "      <td>user_000001</td>\n",
              "      <td>2009-05-03T15:37:56Z</td>\n",
              "      <td>ba2f4f3b-0293-4bc8-bb94-2f73b5207343</td>\n",
              "      <td>Underworld</td>\n",
              "      <td>340d9a0b-9a43-4098-b116-9f79811bd508</td>\n",
              "      <td>Crocodile (Innervisions Orchestra Mix)</td>\n",
              "      <td>2009-05-03 15:37:56</td>\n",
              "    </tr>\n",
              "    <tr>\n",
              "      <th>15</th>\n",
              "      <td>user_000001</td>\n",
              "      <td>2009-05-03T15:14:53Z</td>\n",
              "      <td>a16e47f5-aa54-47fe-87e4-bb8af91a9fdd</td>\n",
              "      <td>Ennio Morricone</td>\n",
              "      <td>0b04407b-f517-4e00-9e6a-494795efc73e</td>\n",
              "      <td>Ninna Nanna In Blu (Raw Deal Remix)</td>\n",
              "      <td>2009-05-03 15:14:53</td>\n",
              "    </tr>\n",
              "  </tbody>\n",
              "</table>\n",
              "</div>"
            ],
            "text/plain": [
              "            #id             timestamp                             artist_id  \\\n",
              "9   user_000001  2009-05-04T13:06:09Z  a7f7df4a-77d8-4f12-8acd-5c60c93f4de8   \n",
              "11  user_000001  2009-05-04T12:55:34Z  a7f7df4a-77d8-4f12-8acd-5c60c93f4de8   \n",
              "13  user_000001  2009-05-03T15:48:25Z  ba2f4f3b-0293-4bc8-bb94-2f73b5207343   \n",
              "14  user_000001  2009-05-03T15:37:56Z  ba2f4f3b-0293-4bc8-bb94-2f73b5207343   \n",
              "15  user_000001  2009-05-03T15:14:53Z  a16e47f5-aa54-47fe-87e4-bb8af91a9fdd   \n",
              "\n",
              "        artist_name                              track_id  \\\n",
              "9              坂本龍一  f7c1f8f8-b935-45ed-8fc8-7def69d92a10   \n",
              "11             坂本龍一  475d4e50-cebb-4cd0-8cd4-c3df97987962   \n",
              "13       Underworld  dc394163-2b78-4b56-94e4-658597a29ef8   \n",
              "14       Underworld  340d9a0b-9a43-4098-b116-9f79811bd508   \n",
              "15  Ennio Morricone  0b04407b-f517-4e00-9e6a-494795efc73e   \n",
              "\n",
              "                                track_name               datem  \n",
              "9                 The Last Emperor (Theme) 2009-05-04 13:06:09  \n",
              "11                 Tibetan Dance (Version) 2009-05-04 12:55:34  \n",
              "13            Boy, Boy, Boy (Switch Remix) 2009-05-03 15:48:25  \n",
              "14  Crocodile (Innervisions Orchestra Mix) 2009-05-03 15:37:56  \n",
              "15     Ninna Nanna In Blu (Raw Deal Remix) 2009-05-03 15:14:53  "
            ]
          },
          "execution_count": 22,
          "metadata": {},
          "output_type": "execute_result"
        }
      ],
      "source": [
        "user_data.head()"
      ]
    },
    {
      "cell_type": "code",
      "execution_count": 23,
      "metadata": {
        "id": "9LoXLgv4F03V"
      },
      "outputs": [],
      "source": [
        "user_data[\"hour\"] = user_data[\"datem\"].apply(lambda x : x.hour)"
      ]
    },
    {
      "cell_type": "code",
      "execution_count": 24,
      "metadata": {
        "id": "XlI5Ajb3IK4Q"
      },
      "outputs": [],
      "source": [
        "user_data_grouped = user_data.groupby(\"#id\")"
      ]
    },
    {
      "cell_type": "code",
      "execution_count": 25,
      "metadata": {
        "id": "sncSMtstLqgk"
      },
      "outputs": [],
      "source": [
        "all_hours = set(range(24))"
      ]
    },
    {
      "cell_type": "code",
      "execution_count": 26,
      "metadata": {
        "id": "oNPQY0R6Iqtj"
      },
      "outputs": [
        {
          "name": "stdout",
          "output_type": "stream",
          "text": [
            "991"
          ]
        }
      ],
      "source": [
        "user_hours = {}\n",
        "for (i, user) in enumerate(user_data_grouped):\n",
        "  print(f\"\\r{i}\", end=\"\")\n",
        "  hour_info = (user[1].groupby(\"hour\")[\"hour\"].count())\n",
        "  hour_info = hour_info / hour_info.sum()\n",
        "  hour_info = dict(hour_info)\n",
        "  missing_hours = (all_hours - hour_info.keys())\n",
        "  if len(missing_hours) > 0:\n",
        "    hour_info.update((x,0) for x in missing_hours)\n",
        "  user_hours[user[0]] = hour_info\n"
      ]
    },
    {
      "cell_type": "code",
      "execution_count": 27,
      "metadata": {
        "id": "l30zknVOEY14"
      },
      "outputs": [],
      "source": [
        "def histogram(column_name,all_keys):\n",
        "  user_hist = {}\n",
        "  for (i, user) in enumerate(user_data_grouped):\n",
        "    print(f\"\\r{i}\", end=\"\")\n",
        "    col_info = (user[1].groupby(column_name)[column_name].count())\n",
        "    col_info = col_info / col_info.sum()\n",
        "    col_info = dict(col_info)\n",
        "    missing_keys = (all_keys - col_info.keys())\n",
        "    if len(missing_keys) > 0:\n",
        "      col_info.update((x,0) for x in missing_keys)\n",
        "    user_hist[user[0]] = col_info\n",
        "  return user_hist"
      ]
    },
    {
      "cell_type": "code",
      "execution_count": 28,
      "metadata": {
        "id": "5syRnzmRQG29"
      },
      "outputs": [
        {
          "name": "stdout",
          "output_type": "stream",
          "text": [
            "991"
          ]
        }
      ],
      "source": [
        "hour_of_day = histogram(\"hour\",all_hours) # 1"
      ]
    },
    {
      "cell_type": "code",
      "execution_count": 46,
      "metadata": {},
      "outputs": [
        {
          "name": "stdout",
          "output_type": "stream",
          "text": [
            "Accuracy score 0.547\n",
            "Accuracy score 0.564\n",
            "Accuracy score 0.488\n",
            "Accuracy score 0.541\n",
            "Accuracy score 0.488\n",
            "Accuracy score 0.575\n"
          ]
        }
      ],
      "source": [
        "accuracies = {}\n",
        "hod_age = [list(hour_of_day[id].values()) for id in age_ids]\n",
        "hod_gender = [list(hour_of_day[id].values()) for id in gender_ids]\n",
        "\n",
        "accuracies['hod'] = {}\n",
        "accuracies['hod']['svm'] = {}\n",
        "accuracies['hod']['knn'] = {}\n",
        "accuracies['hod']['lr'] = {}\n",
        "\n",
        "accuracies['hod']['svm']['age'] = run_SVM(np.array(hod_age), np.array(list(age_data['age'])))\n",
        "accuracies['hod']['svm']['gender'] = run_SVM(np.array(hod_gender), np.array(list(gender_data['gender'])))\n",
        "accuracies['hod']['knn']['age'] = run_KNN(np.array(hod_age), np.array(list(age_data['age'])))\n",
        "accuracies['hod']['knn']['gender'] = run_KNN(np.array(hod_gender), np.array(list(gender_data['gender'])))\n",
        "accuracies['hod']['lr']['age'] = run_LogisticRegression(np.array(hod_age), np.array(list(age_data['age'])))\n",
        "accuracies['hod']['lr']['gender'] = run_LogisticRegression(np.array(hod_gender), np.array(list(gender_data['gender'])))"
      ]
    },
    {
      "cell_type": "code",
      "execution_count": 45,
      "metadata": {
        "id": "lCIKXBhBQRPq"
      },
      "outputs": [],
      "source": [
        "user_data[\"week\"] = user_data[\"datem\"].apply(lambda x : x.weekday())"
      ]
    },
    {
      "cell_type": "code",
      "execution_count": 47,
      "metadata": {
        "id": "oV0KAZ2NT117"
      },
      "outputs": [],
      "source": [
        "all_days_of_week = set(range(7))"
      ]
    },
    {
      "cell_type": "code",
      "execution_count": 48,
      "metadata": {
        "colab": {
          "base_uri": "https://localhost:8080/"
        },
        "id": "42WfzhoGUShd",
        "outputId": "2c6cb099-b96b-48e8-9311-3bb6f29ee893"
      },
      "outputs": [
        {
          "name": "stdout",
          "output_type": "stream",
          "text": [
            "991"
          ]
        }
      ],
      "source": [
        "day_of_week = histogram(\"week\",all_days_of_week) # 2"
      ]
    },
    {
      "cell_type": "code",
      "execution_count": 49,
      "metadata": {},
      "outputs": [
        {
          "name": "stdout",
          "output_type": "stream",
          "text": [
            "Accuracy score 0.547\n",
            "Accuracy score 0.575\n",
            "Accuracy score 0.535\n",
            "Accuracy score 0.538\n",
            "Accuracy score 0.547\n",
            "Accuracy score 0.590\n"
          ]
        }
      ],
      "source": [
        "dow_age = [list(day_of_week[id].values()) for id in age_ids]\n",
        "dow_gender = [list(day_of_week[id].values()) for id in gender_ids]\n",
        "\n",
        "accuracies['dow'] = {}\n",
        "accuracies['dow']['svm'] = {}\n",
        "accuracies['dow']['knn'] = {}\n",
        "accuracies['dow']['lr'] = {}\n",
        "\n",
        "accuracies['dow']['svm']['age'] = run_SVM(np.array(dow_age), np.array(list(age_data['age'])))\n",
        "accuracies['dow']['svm']['gender'] = run_SVM(np.array(dow_gender), np.array(list(gender_data['gender'])))\n",
        "accuracies['dow']['knn']['age'] = run_KNN(np.array(dow_age), np.array(list(age_data['age'])))\n",
        "accuracies['dow']['knn']['gender'] = run_KNN(np.array(dow_gender), np.array(list(gender_data['gender'])))\n",
        "accuracies['dow']['lr']['age'] = run_LogisticRegression(np.array(dow_age), np.array(list(age_data['age'])))\n",
        "accuracies['dow']['lr']['gender'] = run_LogisticRegression(np.array(dow_gender), np.array(list(gender_data['gender'])))"
      ]
    },
    {
      "cell_type": "code",
      "execution_count": 50,
      "metadata": {
        "id": "2ImbThXmVAUo"
      },
      "outputs": [],
      "source": [
        "all_months_of_year = set(range(12))"
      ]
    },
    {
      "cell_type": "code",
      "execution_count": 51,
      "metadata": {
        "id": "GR17RrQSU42S"
      },
      "outputs": [],
      "source": [
        "user_data[\"month\"] = user_data[\"datem\"].apply(lambda x : x.month)"
      ]
    },
    {
      "cell_type": "code",
      "execution_count": 52,
      "metadata": {
        "id": "CxCb738LVrDT"
      },
      "outputs": [
        {
          "name": "stdout",
          "output_type": "stream",
          "text": [
            "991"
          ]
        }
      ],
      "source": [
        "month_of_year = histogram(\"month\",all_months_of_year) # 3"
      ]
    },
    {
      "cell_type": "code",
      "execution_count": 55,
      "metadata": {},
      "outputs": [
        {
          "name": "stdout",
          "output_type": "stream",
          "text": [
            "286\n"
          ]
        },
        {
          "name": "stderr",
          "output_type": "stream",
          "text": [
            "/tmp/ipykernel_11080/2220898418.py:9: VisibleDeprecationWarning: Creating an ndarray from ragged nested sequences (which is a list-or-tuple of lists-or-tuples-or ndarrays with different lengths or shapes) is deprecated. If you meant to do this, you must specify 'dtype=object' when creating the ndarray.\n",
            "  accuracies['moy']['svm']['age'] = run_SVM(np.array(moy_age), np.array(list(age_data['age'])))\n"
          ]
        },
        {
          "ename": "ValueError",
          "evalue": "setting an array element with a sequence.",
          "output_type": "error",
          "traceback": [
            "\u001b[0;31m---------------------------------------------------------------------------\u001b[0m",
            "\u001b[0;31mTypeError\u001b[0m                                 Traceback (most recent call last)",
            "\u001b[0;31mTypeError\u001b[0m: float() argument must be a string or a real number, not 'list'",
            "\nThe above exception was the direct cause of the following exception:\n",
            "\u001b[0;31mValueError\u001b[0m                                Traceback (most recent call last)",
            "\u001b[1;32m/home/tejasvi/Predicting-User-History/MMT_Project.ipynb Cell 40'\u001b[0m in \u001b[0;36m<cell line: 9>\u001b[0;34m()\u001b[0m\n\u001b[1;32m      <a href='vscode-notebook-cell:/home/tejasvi/Predicting-User-History/MMT_Project.ipynb#ch0000057?line=5'>6</a>\u001b[0m accuracies[\u001b[39m'\u001b[39m\u001b[39mmoy\u001b[39m\u001b[39m'\u001b[39m][\u001b[39m'\u001b[39m\u001b[39mknn\u001b[39m\u001b[39m'\u001b[39m] \u001b[39m=\u001b[39m {}\n\u001b[1;32m      <a href='vscode-notebook-cell:/home/tejasvi/Predicting-User-History/MMT_Project.ipynb#ch0000057?line=6'>7</a>\u001b[0m accuracies[\u001b[39m'\u001b[39m\u001b[39mmoy\u001b[39m\u001b[39m'\u001b[39m][\u001b[39m'\u001b[39m\u001b[39mlr\u001b[39m\u001b[39m'\u001b[39m] \u001b[39m=\u001b[39m {}\n\u001b[0;32m----> <a href='vscode-notebook-cell:/home/tejasvi/Predicting-User-History/MMT_Project.ipynb#ch0000057?line=8'>9</a>\u001b[0m accuracies[\u001b[39m'\u001b[39m\u001b[39mmoy\u001b[39m\u001b[39m'\u001b[39m][\u001b[39m'\u001b[39m\u001b[39msvm\u001b[39m\u001b[39m'\u001b[39m][\u001b[39m'\u001b[39m\u001b[39mage\u001b[39m\u001b[39m'\u001b[39m] \u001b[39m=\u001b[39m run_SVM(np\u001b[39m.\u001b[39;49marray(moy_age), np\u001b[39m.\u001b[39;49marray(\u001b[39mlist\u001b[39;49m(age_data[\u001b[39m'\u001b[39;49m\u001b[39mage\u001b[39;49m\u001b[39m'\u001b[39;49m])))\n\u001b[1;32m     <a href='vscode-notebook-cell:/home/tejasvi/Predicting-User-History/MMT_Project.ipynb#ch0000057?line=9'>10</a>\u001b[0m accuracies[\u001b[39m'\u001b[39m\u001b[39mmoy\u001b[39m\u001b[39m'\u001b[39m][\u001b[39m'\u001b[39m\u001b[39msvm\u001b[39m\u001b[39m'\u001b[39m][\u001b[39m'\u001b[39m\u001b[39mgender\u001b[39m\u001b[39m'\u001b[39m] \u001b[39m=\u001b[39m run_SVM(np\u001b[39m.\u001b[39marray(moy_gender), np\u001b[39m.\u001b[39marray(\u001b[39mlist\u001b[39m(gender_data[\u001b[39m'\u001b[39m\u001b[39mgender\u001b[39m\u001b[39m'\u001b[39m])))\n\u001b[1;32m     <a href='vscode-notebook-cell:/home/tejasvi/Predicting-User-History/MMT_Project.ipynb#ch0000057?line=10'>11</a>\u001b[0m accuracies[\u001b[39m'\u001b[39m\u001b[39mmoy\u001b[39m\u001b[39m'\u001b[39m][\u001b[39m'\u001b[39m\u001b[39mknn\u001b[39m\u001b[39m'\u001b[39m][\u001b[39m'\u001b[39m\u001b[39mage\u001b[39m\u001b[39m'\u001b[39m] \u001b[39m=\u001b[39m run_KNN(np\u001b[39m.\u001b[39marray(moy_age), np\u001b[39m.\u001b[39marray(\u001b[39mlist\u001b[39m(age_data[\u001b[39m'\u001b[39m\u001b[39mage\u001b[39m\u001b[39m'\u001b[39m])))\n",
            "\u001b[1;32m/home/tejasvi/Predicting-User-History/MMT_Project.ipynb Cell 13'\u001b[0m in \u001b[0;36mrun_SVM\u001b[0;34m(X, y)\u001b[0m\n\u001b[1;32m      <a href='vscode-notebook-cell:/home/tejasvi/Predicting-User-History/MMT_Project.ipynb#ch0000012?line=1'>2</a>\u001b[0m X_train, X_test, y_train, y_test \u001b[39m=\u001b[39m train_test_split(X, y, test_size\u001b[39m=\u001b[39m\u001b[39m0.3\u001b[39m, random_state\u001b[39m=\u001b[39m\u001b[39m1\u001b[39m, stratify\u001b[39m=\u001b[39my)\n\u001b[1;32m      <a href='vscode-notebook-cell:/home/tejasvi/Predicting-User-History/MMT_Project.ipynb#ch0000012?line=2'>3</a>\u001b[0m sc \u001b[39m=\u001b[39m StandardScaler()\n\u001b[0;32m----> <a href='vscode-notebook-cell:/home/tejasvi/Predicting-User-History/MMT_Project.ipynb#ch0000012?line=3'>4</a>\u001b[0m sc\u001b[39m.\u001b[39;49mfit(X_train)\n\u001b[1;32m      <a href='vscode-notebook-cell:/home/tejasvi/Predicting-User-History/MMT_Project.ipynb#ch0000012?line=4'>5</a>\u001b[0m X_train_std \u001b[39m=\u001b[39m sc\u001b[39m.\u001b[39mtransform(X_train)\n\u001b[1;32m      <a href='vscode-notebook-cell:/home/tejasvi/Predicting-User-History/MMT_Project.ipynb#ch0000012?line=5'>6</a>\u001b[0m X_test_std \u001b[39m=\u001b[39m sc\u001b[39m.\u001b[39mtransform(X_test)\n",
            "File \u001b[0;32m~/.local/lib/python3.10/site-packages/sklearn/preprocessing/_data.py:806\u001b[0m, in \u001b[0;36mStandardScaler.fit\u001b[0;34m(self, X, y, sample_weight)\u001b[0m\n\u001b[1;32m    <a href='file:///home/tejasvi/.local/lib/python3.10/site-packages/sklearn/preprocessing/_data.py?line=803'>804</a>\u001b[0m \u001b[39m# Reset internal state before fitting\u001b[39;00m\n\u001b[1;32m    <a href='file:///home/tejasvi/.local/lib/python3.10/site-packages/sklearn/preprocessing/_data.py?line=804'>805</a>\u001b[0m \u001b[39mself\u001b[39m\u001b[39m.\u001b[39m_reset()\n\u001b[0;32m--> <a href='file:///home/tejasvi/.local/lib/python3.10/site-packages/sklearn/preprocessing/_data.py?line=805'>806</a>\u001b[0m \u001b[39mreturn\u001b[39;00m \u001b[39mself\u001b[39;49m\u001b[39m.\u001b[39;49mpartial_fit(X, y, sample_weight)\n",
            "File \u001b[0;32m~/.local/lib/python3.10/site-packages/sklearn/preprocessing/_data.py:841\u001b[0m, in \u001b[0;36mStandardScaler.partial_fit\u001b[0;34m(self, X, y, sample_weight)\u001b[0m\n\u001b[1;32m    <a href='file:///home/tejasvi/.local/lib/python3.10/site-packages/sklearn/preprocessing/_data.py?line=808'>809</a>\u001b[0m \u001b[39m\"\"\"Online computation of mean and std on X for later scaling.\u001b[39;00m\n\u001b[1;32m    <a href='file:///home/tejasvi/.local/lib/python3.10/site-packages/sklearn/preprocessing/_data.py?line=809'>810</a>\u001b[0m \n\u001b[1;32m    <a href='file:///home/tejasvi/.local/lib/python3.10/site-packages/sklearn/preprocessing/_data.py?line=810'>811</a>\u001b[0m \u001b[39mAll of X is processed as a single batch. This is intended for cases\u001b[39;00m\n\u001b[0;32m   (...)\u001b[0m\n\u001b[1;32m    <a href='file:///home/tejasvi/.local/lib/python3.10/site-packages/sklearn/preprocessing/_data.py?line=837'>838</a>\u001b[0m \u001b[39m    Fitted scaler.\u001b[39;00m\n\u001b[1;32m    <a href='file:///home/tejasvi/.local/lib/python3.10/site-packages/sklearn/preprocessing/_data.py?line=838'>839</a>\u001b[0m \u001b[39m\"\"\"\u001b[39;00m\n\u001b[1;32m    <a href='file:///home/tejasvi/.local/lib/python3.10/site-packages/sklearn/preprocessing/_data.py?line=839'>840</a>\u001b[0m first_call \u001b[39m=\u001b[39m \u001b[39mnot\u001b[39;00m \u001b[39mhasattr\u001b[39m(\u001b[39mself\u001b[39m, \u001b[39m\"\u001b[39m\u001b[39mn_samples_seen_\u001b[39m\u001b[39m\"\u001b[39m)\n\u001b[0;32m--> <a href='file:///home/tejasvi/.local/lib/python3.10/site-packages/sklearn/preprocessing/_data.py?line=840'>841</a>\u001b[0m X \u001b[39m=\u001b[39m \u001b[39mself\u001b[39;49m\u001b[39m.\u001b[39;49m_validate_data(\n\u001b[1;32m    <a href='file:///home/tejasvi/.local/lib/python3.10/site-packages/sklearn/preprocessing/_data.py?line=841'>842</a>\u001b[0m     X,\n\u001b[1;32m    <a href='file:///home/tejasvi/.local/lib/python3.10/site-packages/sklearn/preprocessing/_data.py?line=842'>843</a>\u001b[0m     accept_sparse\u001b[39m=\u001b[39;49m(\u001b[39m\"\u001b[39;49m\u001b[39mcsr\u001b[39;49m\u001b[39m\"\u001b[39;49m, \u001b[39m\"\u001b[39;49m\u001b[39mcsc\u001b[39;49m\u001b[39m\"\u001b[39;49m),\n\u001b[1;32m    <a href='file:///home/tejasvi/.local/lib/python3.10/site-packages/sklearn/preprocessing/_data.py?line=843'>844</a>\u001b[0m     estimator\u001b[39m=\u001b[39;49m\u001b[39mself\u001b[39;49m,\n\u001b[1;32m    <a href='file:///home/tejasvi/.local/lib/python3.10/site-packages/sklearn/preprocessing/_data.py?line=844'>845</a>\u001b[0m     dtype\u001b[39m=\u001b[39;49mFLOAT_DTYPES,\n\u001b[1;32m    <a href='file:///home/tejasvi/.local/lib/python3.10/site-packages/sklearn/preprocessing/_data.py?line=845'>846</a>\u001b[0m     force_all_finite\u001b[39m=\u001b[39;49m\u001b[39m\"\u001b[39;49m\u001b[39mallow-nan\u001b[39;49m\u001b[39m\"\u001b[39;49m,\n\u001b[1;32m    <a href='file:///home/tejasvi/.local/lib/python3.10/site-packages/sklearn/preprocessing/_data.py?line=846'>847</a>\u001b[0m     reset\u001b[39m=\u001b[39;49mfirst_call,\n\u001b[1;32m    <a href='file:///home/tejasvi/.local/lib/python3.10/site-packages/sklearn/preprocessing/_data.py?line=847'>848</a>\u001b[0m )\n\u001b[1;32m    <a href='file:///home/tejasvi/.local/lib/python3.10/site-packages/sklearn/preprocessing/_data.py?line=848'>849</a>\u001b[0m n_features \u001b[39m=\u001b[39m X\u001b[39m.\u001b[39mshape[\u001b[39m1\u001b[39m]\n\u001b[1;32m    <a href='file:///home/tejasvi/.local/lib/python3.10/site-packages/sklearn/preprocessing/_data.py?line=850'>851</a>\u001b[0m \u001b[39mif\u001b[39;00m sample_weight \u001b[39mis\u001b[39;00m \u001b[39mnot\u001b[39;00m \u001b[39mNone\u001b[39;00m:\n",
            "File \u001b[0;32m~/.local/lib/python3.10/site-packages/sklearn/base.py:566\u001b[0m, in \u001b[0;36mBaseEstimator._validate_data\u001b[0;34m(self, X, y, reset, validate_separately, **check_params)\u001b[0m\n\u001b[1;32m    <a href='file:///home/tejasvi/.local/lib/python3.10/site-packages/sklearn/base.py?line=563'>564</a>\u001b[0m     \u001b[39mraise\u001b[39;00m \u001b[39mValueError\u001b[39;00m(\u001b[39m\"\u001b[39m\u001b[39mValidation should be done on X, y or both.\u001b[39m\u001b[39m\"\u001b[39m)\n\u001b[1;32m    <a href='file:///home/tejasvi/.local/lib/python3.10/site-packages/sklearn/base.py?line=564'>565</a>\u001b[0m \u001b[39melif\u001b[39;00m \u001b[39mnot\u001b[39;00m no_val_X \u001b[39mand\u001b[39;00m no_val_y:\n\u001b[0;32m--> <a href='file:///home/tejasvi/.local/lib/python3.10/site-packages/sklearn/base.py?line=565'>566</a>\u001b[0m     X \u001b[39m=\u001b[39m check_array(X, \u001b[39m*\u001b[39;49m\u001b[39m*\u001b[39;49mcheck_params)\n\u001b[1;32m    <a href='file:///home/tejasvi/.local/lib/python3.10/site-packages/sklearn/base.py?line=566'>567</a>\u001b[0m     out \u001b[39m=\u001b[39m X\n\u001b[1;32m    <a href='file:///home/tejasvi/.local/lib/python3.10/site-packages/sklearn/base.py?line=567'>568</a>\u001b[0m \u001b[39melif\u001b[39;00m no_val_X \u001b[39mand\u001b[39;00m \u001b[39mnot\u001b[39;00m no_val_y:\n",
            "File \u001b[0;32m~/.local/lib/python3.10/site-packages/sklearn/utils/validation.py:746\u001b[0m, in \u001b[0;36mcheck_array\u001b[0;34m(array, accept_sparse, accept_large_sparse, dtype, order, copy, force_all_finite, ensure_2d, allow_nd, ensure_min_samples, ensure_min_features, estimator)\u001b[0m\n\u001b[1;32m    <a href='file:///home/tejasvi/.local/lib/python3.10/site-packages/sklearn/utils/validation.py?line=743'>744</a>\u001b[0m         array \u001b[39m=\u001b[39m array\u001b[39m.\u001b[39mastype(dtype, casting\u001b[39m=\u001b[39m\u001b[39m\"\u001b[39m\u001b[39munsafe\u001b[39m\u001b[39m\"\u001b[39m, copy\u001b[39m=\u001b[39m\u001b[39mFalse\u001b[39;00m)\n\u001b[1;32m    <a href='file:///home/tejasvi/.local/lib/python3.10/site-packages/sklearn/utils/validation.py?line=744'>745</a>\u001b[0m     \u001b[39melse\u001b[39;00m:\n\u001b[0;32m--> <a href='file:///home/tejasvi/.local/lib/python3.10/site-packages/sklearn/utils/validation.py?line=745'>746</a>\u001b[0m         array \u001b[39m=\u001b[39m np\u001b[39m.\u001b[39;49masarray(array, order\u001b[39m=\u001b[39;49morder, dtype\u001b[39m=\u001b[39;49mdtype)\n\u001b[1;32m    <a href='file:///home/tejasvi/.local/lib/python3.10/site-packages/sklearn/utils/validation.py?line=746'>747</a>\u001b[0m \u001b[39mexcept\u001b[39;00m ComplexWarning \u001b[39mas\u001b[39;00m complex_warning:\n\u001b[1;32m    <a href='file:///home/tejasvi/.local/lib/python3.10/site-packages/sklearn/utils/validation.py?line=747'>748</a>\u001b[0m     \u001b[39mraise\u001b[39;00m \u001b[39mValueError\u001b[39;00m(\n\u001b[1;32m    <a href='file:///home/tejasvi/.local/lib/python3.10/site-packages/sklearn/utils/validation.py?line=748'>749</a>\u001b[0m         \u001b[39m\"\u001b[39m\u001b[39mComplex data not supported\u001b[39m\u001b[39m\\n\u001b[39;00m\u001b[39m{}\u001b[39;00m\u001b[39m\\n\u001b[39;00m\u001b[39m\"\u001b[39m\u001b[39m.\u001b[39mformat(array)\n\u001b[1;32m    <a href='file:///home/tejasvi/.local/lib/python3.10/site-packages/sklearn/utils/validation.py?line=749'>750</a>\u001b[0m     ) \u001b[39mfrom\u001b[39;00m \u001b[39mcomplex_warning\u001b[39;00m\n",
            "\u001b[0;31mValueError\u001b[0m: setting an array element with a sequence."
          ]
        }
      ],
      "source": [
        "moy_age = [list(month_of_year[id].values()) for id in age_ids]\n",
        "moy_gender = [list(month_of_year[id].values()) for id in gender_ids]\n",
        "print(len(moy_age))\n",
        "accuracies['moy'] = {}\n",
        "accuracies['moy']['svm'] = {}\n",
        "accuracies['moy']['knn'] = {}\n",
        "accuracies['moy']['lr'] = {}\n",
        "\n",
        "accuracies['moy']['svm']['age'] = run_SVM(np.array(moy_age), np.array(list(age_data['age'])))\n",
        "accuracies['moy']['svm']['gender'] = run_SVM(np.array(moy_gender), np.array(list(gender_data['gender'])))\n",
        "accuracies['moy']['knn']['age'] = run_KNN(np.array(moy_age), np.array(list(age_data['age'])))\n",
        "accuracies['moy']['knn']['gender'] = run_KNN(np.array(moy_gender), np.array(list(gender_data['gender'])))\n",
        "accuracies['moy']['lr']['age'] = run_LogisticRegression(np.array(moy_age), np.array(list(age_data['age'])))\n",
        "accuracies['moy']['lr']['gender'] = run_LogisticRegression(np.array(moy_gender), np.array(list(gender_data['gender'])))"
      ]
    },
    {
      "cell_type": "code",
      "execution_count": null,
      "metadata": {
        "id": "qQe48faVYwx5"
      },
      "outputs": [],
      "source": [
        "from scipy.stats import entropy"
      ]
    },
    {
      "cell_type": "code",
      "execution_count": null,
      "metadata": {
        "id": "GnRcUYS0ap51"
      },
      "outputs": [],
      "source": [
        "def cal_entropy(hist_data):\n",
        "  df = pd.DataFrame.from_dict(hist_data).transpose()\n",
        "  _ , l = df.shape\n",
        "  return df.apply(lambda x : entropy(x,base=l),axis=1)"
      ]
    },
    {
      "cell_type": "code",
      "execution_count": null,
      "metadata": {
        "id": "o4bAdjQscsxK"
      },
      "outputs": [],
      "source": [
        "hour_of_day_entropy = cal_entropy(hour_of_day) # 4"
      ]
    },
    {
      "cell_type": "code",
      "execution_count": null,
      "metadata": {
        "id": "943A06Kdfi8E"
      },
      "outputs": [],
      "source": [
        "day_of_week_entropy = cal_entropy(day_of_week) # 5"
      ]
    },
    {
      "cell_type": "code",
      "execution_count": null,
      "metadata": {
        "id": "i0ALpaORgSJY"
      },
      "outputs": [],
      "source": [
        "month_of_year_entropy = cal_entropy(month_of_year) # 6"
      ]
    },
    {
      "cell_type": "code",
      "execution_count": null,
      "metadata": {
        "id": "RalNLa0vhx8l"
      },
      "outputs": [],
      "source": [
        "def working_ratio(hist_data,lower,upper):\n",
        "  df = pd.DataFrame.from_dict(hist_data).transpose()\n",
        "  return df.apply(lambda x : np.sum(x[lower:upper+1]),axis=1)"
      ]
    },
    {
      "cell_type": "code",
      "execution_count": null,
      "metadata": {
        "id": "Dy10gkqCjZHH"
      },
      "outputs": [],
      "source": [
        "working_hour_ratio = working_ratio(hour_of_day,8,19) # 7"
      ]
    },
    {
      "cell_type": "code",
      "execution_count": null,
      "metadata": {
        "id": "hGgLZZKvkGzy"
      },
      "outputs": [],
      "source": [
        "working_day_ratio = working_ratio(day_of_week,0,4) # 8"
      ]
    },
    {
      "cell_type": "code",
      "execution_count": null,
      "metadata": {
        "id": "QqOGSbadkakv"
      },
      "outputs": [],
      "source": [
        "working_month_ratio = working_ratio(month_of_year,0,5) + working_ratio(month_of_year,8,11) # 9"
      ]
    },
    {
      "cell_type": "code",
      "execution_count": null,
      "metadata": {
        "id": "Izcc1-X2mkO_"
      },
      "outputs": [],
      "source": [
        "working_month_ratio"
      ]
    },
    {
      "cell_type": "code",
      "execution_count": null,
      "metadata": {
        "id": "Q8OMsKu9ZkNh"
      },
      "outputs": [],
      "source": [
        "run_SVM(np.array(new_X).reshape(-1, 1), np.array(list(age_data['age'])))"
      ]
    },
    {
      "cell_type": "code",
      "execution_count": null,
      "metadata": {
        "id": "7ZUEVr-PnX29"
      },
      "outputs": [],
      "source": [
        "!pip install spotipy"
      ]
    },
    {
      "cell_type": "code",
      "execution_count": null,
      "metadata": {
        "id": "HBgxbaR6t-2C"
      },
      "outputs": [],
      "source": [
        "import spotipy\n",
        "from spotipy.oauth2 import SpotifyClientCredentials\n",
        "import pandas as pd\n",
        "import matplotlib.pyplot as plt"
      ]
    },
    {
      "cell_type": "code",
      "execution_count": null,
      "metadata": {
        "id": "j7C_WAfluDyA"
      },
      "outputs": [],
      "source": [
        "client_id = \"19ec26d3aa3945d69e03af78c1cf8c1a\"\n",
        "client_secret = \"503c93d96d254127b3038ecd3fb9051f\"\n",
        "credentials = SpotifyClientCredentials(client_id=client_id,client_secret=client_secret)\n",
        "\n",
        "\n",
        "sp = spotipy.Spotify(client_credentials_manager = credentials)"
      ]
    },
    {
      "cell_type": "code",
      "execution_count": null,
      "metadata": {
        "id": "KjxgZvDKuIRr"
      },
      "outputs": [],
      "source": [
        "def getspotifyfeatures(trackid):\n",
        "  urn = \"spotify:track:\" + trackid\n",
        "  out = sp.audio_features(tracks=urn)\n",
        "  return out"
      ]
    },
    {
      "cell_type": "code",
      "execution_count": null,
      "metadata": {
        "id": "Ht9hxWAQuMF2"
      },
      "outputs": [],
      "source": [
        "user_song_features = {}\n",
        "for (i, user) in enumerate(user_data_grouped):\n",
        "  print(f\"\\r{i}\", end=\"\")\n",
        "  track_info = (user[1].groupby(\"track_id\")[\"track_id\"].count())\n",
        "  print(type(track_info),track_info)\n",
        "  break\n",
        "  # hour_info = hour_info / hour_info.sum()\n",
        "  # hour_info = dict(hour_info)\n",
        "  # missing_hours = (all_hours - hour_info.keys())\n",
        "  # if len(missing_hours) > 0:\n",
        "  #   hour_info.update((x,0) for x in missing_hours)\n",
        "  # user_hours[user[0]] = hour_info\n"
      ]
    },
    {
      "cell_type": "code",
      "execution_count": null,
      "metadata": {
        "id": "fyE1vVKuvdqa"
      },
      "outputs": [],
      "source": [
        "def getid(artistname, trackname):\n",
        "  res = sp.search(trackname, limit = 10)\n",
        "  for i in range(len(res['tracks']['items'])):\n",
        "    if res['tracks']['items'][i]['artists'][0]['name'].lower() == artistname.lower():\n",
        "      return res['tracks']['items'][i]['id']\n",
        "  else:\n",
        "    return None"
      ]
    },
    {
      "cell_type": "code",
      "execution_count": null,
      "metadata": {
        "id": "lt33Ax9e2UJV"
      },
      "outputs": [],
      "source": []
    }
  ],
  "metadata": {
    "colab": {
      "name": "MMT_Project.ipynb",
      "provenance": []
    },
    "kernelspec": {
      "display_name": "Python 3",
      "name": "python3"
    },
    "language_info": {
      "codemirror_mode": {
        "name": "ipython",
        "version": 3
      },
      "file_extension": ".py",
      "mimetype": "text/x-python",
      "name": "python",
      "nbconvert_exporter": "python",
      "pygments_lexer": "ipython3",
      "version": "3.10.4"
    }
  },
  "nbformat": 4,
  "nbformat_minor": 0
}
